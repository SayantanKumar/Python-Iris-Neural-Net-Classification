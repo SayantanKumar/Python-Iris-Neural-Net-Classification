{
 "cells": [
  {
   "cell_type": "code",
   "execution_count": 55,
   "metadata": {
    "collapsed": true
   },
   "outputs": [],
   "source": [
    "import numpy as np\n",
    "from sklearn import datasets as ds"
   ]
  },
  {
   "cell_type": "code",
   "execution_count": 56,
   "metadata": {
    "collapsed": false
   },
   "outputs": [],
   "source": [
    "iris = ds.load_iris() #Load the data set\n",
    "\n",
    "#Put the data and labels into an x and y matrix\n",
    "x = iris.data #(150,4)\n",
    "y = iris.target #(150,1)\n",
    "\n",
    "#Then normalize the data into a range between 0 & 1\n",
    "x = x/x.max()\n",
    "y = y/y.max()\n"
   ]
  },
  {
   "cell_type": "code",
   "execution_count": 57,
   "metadata": {
    "collapsed": false
   },
   "outputs": [],
   "source": [
    "class NeuralNetwork(object):\n",
    "    def __init__(self):\n",
    "        np.random.seed(1) #Sets a random seed, this will help when debugging as all the random weights will be the same every time it is run\n",
    "        \n",
    "        #Neural Network Model\n",
    "        self.inputSize = 4 #4 Inputs, sepal length/width and petal length/width\n",
    "        self.hiddenSize = 3 #Rounded mean of input & output, we'll see how well it works\n",
    "        self.outputSize = 1 #1 Output to classify which flower it is\n",
    "        \n",
    "        #Create the weights randomly into a matrix of the same size as the number of nodes they are connected to \n",
    "        self.W1 = np.random.randn(self.inputSize, self.hiddenSize) #input -> hidden\n",
    "        self.W2 = np.random.randn(self.hiddenSize, self.outputSize) #hidden -> output\n",
    "        \n",
    "    def forwardProp(self, x):\n",
    "        #Propagrate all the data forwards through the network using sigmoid as our activation function\n",
    "        self.z2 = np.dot(x, self.W1)\n",
    "        self.a2 = self.sigmoid(self.z2)\n",
    "        self.z3 = np.dot(self.a2, self.W2)\n",
    "        self.yHat = self.sigmoid(self.z3)\n",
    "        return self.yHat\n",
    "    \n",
    "    def sigmoid(self, z):\n",
    "        return 1/(1+np.exp(-z))"
   ]
  },
  {
   "cell_type": "code",
   "execution_count": 58,
   "metadata": {
    "collapsed": false
   },
   "outputs": [],
   "source": [
    "net = NeuralNetwork()"
   ]
  },
  {
   "cell_type": "code",
   "execution_count": 59,
   "metadata": {
    "collapsed": false
   },
   "outputs": [
    {
     "data": {
      "text/plain": [
       "array([[ 0.45588597],\n",
       "       [ 0.46401394],\n",
       "       [ 0.46198523],\n",
       "       [ 0.46406267],\n",
       "       [ 0.45499112],\n",
       "       [ 0.44644813],\n",
       "       [ 0.45803827],\n",
       "       [ 0.45778889],\n",
       "       [ 0.46804737],\n",
       "       [ 0.46427982],\n",
       "       [ 0.45189199],\n",
       "       [ 0.45878652],\n",
       "       [ 0.466218  ],\n",
       "       [ 0.46860529],\n",
       "       [ 0.44626116],\n",
       "       [ 0.43935528],\n",
       "       [ 0.44632384],\n",
       "       [ 0.45431375],\n",
       "       [ 0.44791176],\n",
       "       [ 0.45041147],\n",
       "       [ 0.45607893],\n",
       "       [ 0.4501891 ],\n",
       "       [ 0.45678161],\n",
       "       [ 0.45404688],\n",
       "       [ 0.45896149],\n",
       "       [ 0.4636741 ],\n",
       "       [ 0.45465426],\n",
       "       [ 0.45547564],\n",
       "       [ 0.45680226],\n",
       "       [ 0.46215127],\n",
       "       [ 0.46314379],\n",
       "       [ 0.45279908],\n",
       "       [ 0.44915656],\n",
       "       [ 0.44518236],\n",
       "       [ 0.46427982],\n",
       "       [ 0.46046867],\n",
       "       [ 0.45400965],\n",
       "       [ 0.46427982],\n",
       "       [ 0.46646117],\n",
       "       [ 0.45732174],\n",
       "       [ 0.45473483],\n",
       "       [ 0.47526227],\n",
       "       [ 0.46348289],\n",
       "       [ 0.45022983],\n",
       "       [ 0.44906521],\n",
       "       [ 0.46281335],\n",
       "       [ 0.45196027],\n",
       "       [ 0.46253011],\n",
       "       [ 0.45233573],\n",
       "       [ 0.4591471 ],\n",
       "       [ 0.43903927],\n",
       "       [ 0.43886164],\n",
       "       [ 0.4395603 ],\n",
       "       [ 0.45679601],\n",
       "       [ 0.44409386],\n",
       "       [ 0.44950844],\n",
       "       [ 0.43679351],\n",
       "       [ 0.46158052],\n",
       "       [ 0.44545524],\n",
       "       [ 0.45010064],\n",
       "       [ 0.46800369],\n",
       "       [ 0.44247049],\n",
       "       [ 0.4616709 ],\n",
       "       [ 0.44561895],\n",
       "       [ 0.44695884],\n",
       "       [ 0.44058295],\n",
       "       [ 0.44391962],\n",
       "       [ 0.45475978],\n",
       "       [ 0.45356411],\n",
       "       [ 0.45651281],\n",
       "       [ 0.43650152],\n",
       "       [ 0.44728065],\n",
       "       [ 0.44960559],\n",
       "       [ 0.45017914],\n",
       "       [ 0.44547212],\n",
       "       [ 0.44219439],\n",
       "       [ 0.44516796],\n",
       "       [ 0.43870268],\n",
       "       [ 0.44402651],\n",
       "       [ 0.45558356],\n",
       "       [ 0.45826065],\n",
       "       [ 0.45978851],\n",
       "       [ 0.45114545],\n",
       "       [ 0.44645603],\n",
       "       [ 0.4445704 ],\n",
       "       [ 0.4360653 ],\n",
       "       [ 0.4396957 ],\n",
       "       [ 0.45479009],\n",
       "       [ 0.44632859],\n",
       "       [ 0.45373579],\n",
       "       [ 0.45460771],\n",
       "       [ 0.44404697],\n",
       "       [ 0.45279842],\n",
       "       [ 0.46274373],\n",
       "       [ 0.45076433],\n",
       "       [ 0.44770014],\n",
       "       [ 0.44754917],\n",
       "       [ 0.44609433],\n",
       "       [ 0.4570633 ],\n",
       "       [ 0.44879906],\n",
       "       [ 0.42701045],\n",
       "       [ 0.44244069],\n",
       "       [ 0.43404884],\n",
       "       [ 0.44085625],\n",
       "       [ 0.43376678],\n",
       "       [ 0.43470105],\n",
       "       [ 0.45024134],\n",
       "       [ 0.44008496],\n",
       "       [ 0.44585346],\n",
       "       [ 0.42225978],\n",
       "       [ 0.43268115],\n",
       "       [ 0.44117835],\n",
       "       [ 0.43384254],\n",
       "       [ 0.44378944],\n",
       "       [ 0.43384077],\n",
       "       [ 0.42925925],\n",
       "       [ 0.43879794],\n",
       "       [ 0.42420363],\n",
       "       [ 0.43764791],\n",
       "       [ 0.45534421],\n",
       "       [ 0.42894324],\n",
       "       [ 0.43980901],\n",
       "       [ 0.43873209],\n",
       "       [ 0.44211616],\n",
       "       [ 0.43082449],\n",
       "       [ 0.43568787],\n",
       "       [ 0.44084868],\n",
       "       [ 0.43867467],\n",
       "       [ 0.43755267],\n",
       "       [ 0.44066499],\n",
       "       [ 0.43926838],\n",
       "       [ 0.42566827],\n",
       "       [ 0.43612011],\n",
       "       [ 0.44570062],\n",
       "       [ 0.45191627],\n",
       "       [ 0.43063949],\n",
       "       [ 0.42643506],\n",
       "       [ 0.43774488],\n",
       "       [ 0.43877531],\n",
       "       [ 0.43218623],\n",
       "       [ 0.42901403],\n",
       "       [ 0.42893897],\n",
       "       [ 0.44244069],\n",
       "       [ 0.42955307],\n",
       "       [ 0.42563521],\n",
       "       [ 0.43074905],\n",
       "       [ 0.44357347],\n",
       "       [ 0.43534021],\n",
       "       [ 0.42759569],\n",
       "       [ 0.43960361]])"
      ]
     },
     "execution_count": 59,
     "metadata": {},
     "output_type": "execute_result"
    }
   ],
   "source": [
    "net.forwardProp(x)"
   ]
  },
  {
   "cell_type": "code",
   "execution_count": null,
   "metadata": {
    "collapsed": true
   },
   "outputs": [],
   "source": []
  },
  {
   "cell_type": "code",
   "execution_count": null,
   "metadata": {
    "collapsed": true
   },
   "outputs": [],
   "source": []
  }
 ],
 "metadata": {
  "anaconda-cloud": {},
  "kernelspec": {
   "display_name": "Python [conda root]",
   "language": "python",
   "name": "conda-root-py"
  },
  "language_info": {
   "codemirror_mode": {
    "name": "ipython",
    "version": 3
   },
   "file_extension": ".py",
   "mimetype": "text/x-python",
   "name": "python",
   "nbconvert_exporter": "python",
   "pygments_lexer": "ipython3",
   "version": "3.5.2"
  }
 },
 "nbformat": 4,
 "nbformat_minor": 1
}
